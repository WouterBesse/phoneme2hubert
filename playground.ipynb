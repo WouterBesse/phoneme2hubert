{
 "cells": [
  {
   "cell_type": "markdown",
   "metadata": {},
   "source": [
    "# Playground for Phoneme2Hubert"
   ]
  },
  {
   "cell_type": "markdown",
   "metadata": {},
   "source": [
    "## Checking Dataset"
   ]
  },
  {
   "cell_type": "code",
   "execution_count": 1,
   "metadata": {},
   "outputs": [
    {
     "name": "stderr",
     "output_type": "stream",
     "text": [
      "100%|██████████| 50/50 [00:55<00:00,  1.11s/it]\n"
     ]
    }
   ],
   "source": [
    "from hubert.dataset import AcousticUnitsDataset\n",
    "from torch.utils.data import DataLoader\n",
    "from torch.utils.data.distributed import DistributedSampler\n",
    "from pathlib import Path\n",
    "from tqdm import trange\n",
    "\n",
    "dataPath = Path(\"D:/Desktop/Music Projects/Werk/phoneme2hubert/data/\") \n",
    "testDataSet = AcousticUnitsDataset(dataPath)\n",
    "\n",
    "train_loader = DataLoader(\n",
    "        testDataSet,\n",
    "        collate_fn=testDataSet.collate,\n",
    "        batch_size=1,\n",
    "    )\n",
    "i = 0\n",
    "# one_batch = next(iter(train_loader))\n",
    "# print(one_batch[0].size(), one_batch[1].size(), one_batch[2].size(), one_batch[3].size(), one_batch[4].size())\n",
    "for i in trange(50):\n",
    "    for  wavs, codes in train_loader:\n",
    "        i += 1\n",
    "        # print(wavs.size(), codes.size())"
   ]
  },
  {
   "cell_type": "code",
   "execution_count": 3,
   "metadata": {},
   "outputs": [
    {
     "name": "stdout",
     "output_type": "stream",
     "text": [
      "12.1\n",
      "True\n"
     ]
    }
   ],
   "source": [
    "import torch\n",
    "\n",
    "# Check cuda version\n",
    "print(torch.version.cuda)\n",
    "\n",
    "# Check if gpu works\n",
    "print(torch.cuda.is_available())"
   ]
  },
  {
   "cell_type": "code",
   "execution_count": null,
   "metadata": {},
   "outputs": [
    {
     "name": "stdout",
     "output_type": "stream",
     "text": [
      "2136134\n",
      "2136134\n"
     ]
    }
   ],
   "source": [
    "import numpy as np\n",
    "\n",
    "oldphonemefile = np.load(\"./data/phon_old/01.npy\")\n",
    "newphonemefile = np.load(\"./data/phon/01.npy\")\n",
    "\n",
    "print(len(oldphonemefile))\n",
    "print(len(newphonemefile))"
   ]
  },
  {
   "cell_type": "code",
   "execution_count": null,
   "metadata": {},
   "outputs": [
    {
     "name": "stdout",
     "output_type": "stream",
     "text": [
      "['pau', 'a', 'b', 'by', 'ch', 'cl', 'd', 'dy', 'e', 'f', 'fy', 'g', 'gy', 'h', 'hy', 'i', 'j', 'k', 'ky', 'm', 'my', 'N', 'n', 'ny', 'o', 'p', 'py', 'r', 'ry', 's', 'sh', 't', 'ts', 'ty', 'u', 'v', 'w', 'y', 'z']\n"
     ]
    }
   ],
   "source": [
    "import numpy as np\n",
    "from pathlib import Path\n",
    "from hubert.preprocessing.tokenizer import SequenceTokenizer\n",
    "\n",
    "dataPath = Path(\"D:/Desktop/Music Projects/Werk/phoneme2hubert/data/phon_old\")\n",
    "phonemes = \"pau a b by ch cl d dy e f fy g gy h hy i j k ky m my N n ny o p py r ry s sh t ts ty u v w y z\"\n",
    "phonemes = phonemes.split(\" \")\n",
    "print(phonemes)\n",
    "tokenizer = SequenceTokenizer(phonemes, \"jp\", 1, append_start_end=False)\n",
    "save_folder = Path(\"D:/Desktop/Music Projects/Werk/phoneme2hubert/data/phon\")\n",
    "\n",
    "# Go through all .npy files in dataPath, tokenize them and save them to save_folder\n",
    "for file in dataPath.glob(\"*.npy\"):\n",
    "    phoneme_file = np.load(file)\n",
    "    phoneme_file = tokenizer(phoneme_file, 'jp')\n",
    "    np.save(save_folder / file.name, phoneme_file)"
   ]
  },
  {
   "cell_type": "markdown",
   "metadata": {},
   "source": [
    "import numpy as np\n",
    "from pathlib import Path\n"
   ]
  }
 ],
 "metadata": {
  "kernelspec": {
   "display_name": "Hubert",
   "language": "python",
   "name": "python3"
  },
  "language_info": {
   "codemirror_mode": {
    "name": "ipython",
    "version": 3
   },
   "file_extension": ".py",
   "mimetype": "text/x-python",
   "name": "python",
   "nbconvert_exporter": "python",
   "pygments_lexer": "ipython3",
   "version": "3.11.5"
  }
 },
 "nbformat": 4,
 "nbformat_minor": 2
}
